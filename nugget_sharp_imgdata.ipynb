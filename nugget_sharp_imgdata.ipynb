{
 "cells": [
  {
   "cell_type": "markdown",
   "metadata": {
    "collapsed": true
   },
   "source": [
    "# Select and download SHARP data"
   ]
  },
  {
   "cell_type": "code",
   "execution_count": null,
   "metadata": {
    "collapsed": false
   },
   "outputs": [],
   "source": [
    "import os.path\n",
    "import matplotlib.pyplot as plt\n",
    "from astropy.io import fits\n",
    "import drms\n",
    "%matplotlib inline"
   ]
  },
  {
   "cell_type": "markdown",
   "metadata": {},
   "source": [
    "## Selecting the data\n",
    "\n",
    "In this example, we select a record from the [Space-weather Active Region Patch](http://jsoc.stanford.edu/doc/data/hmi/sharp/sharp.htm) (SHARP) series, and download some of its data files. We use the flux-weighted center of SHARP 4315 to select the record that is closest to the central meridian. Additional metadata, like SDO's LoS velocity or WCS keywords are used when creating plots of the downloaded data."
   ]
  },
  {
   "cell_type": "code",
   "execution_count": null,
   "metadata": {
    "collapsed": true
   },
   "outputs": [],
   "source": [
    "series = 'hmi.sharp_720s'\n",
    "sharpnum = 4315\n",
    "segments = ['magnetogram', 'field', 'continuum', 'Dopplergram']\n",
    "kwlist = ['T_REC', 'LON_FWT', 'OBS_VR', 'CROTA2',\n",
    "          'CRPIX1', 'CRPIX2', 'CDELT1', 'CDELT2', 'CRVAL1', 'CRVAL2']"
   ]
  },
  {
   "cell_type": "markdown",
   "metadata": {},
   "source": [
    "Create DRMS client and query metadata.\n",
    "\n",
    "Note that you need to register your email address at JSOC, in order to be able to submit export requests. This can be very easily done on the [JSOC email registration](http://jsoc.stanford.edu/ajax/register_email.html) webpage. You then need to replace the `email='name@example.com'` argument below with your own registered email address."
   ]
  },
  {
   "cell_type": "code",
   "execution_count": null,
   "metadata": {
    "collapsed": false
   },
   "outputs": [],
   "source": [
    "c = drms.Client(email='name@example.com', verbose=True)\n",
    "k = c.query('%s[%d]' % (series, sharpnum), key=kwlist, rec_index=True)"
   ]
  },
  {
   "cell_type": "markdown",
   "metadata": {},
   "source": [
    "Find the record that is clostest to the central meridian, by using the minimum of the patch's absolute longitude:"
   ]
  },
  {
   "cell_type": "code",
   "execution_count": null,
   "metadata": {
    "collapsed": false
   },
   "outputs": [],
   "source": [
    "rec_cm = k.LON_FWT.abs().argmin()\n",
    "k_cm = k.loc[rec_cm]\n",
    "t_cm = drms.to_datetime(k.T_REC[rec_cm])\n",
    "print(rec_cm, '@', k.LON_FWT[rec_cm], 'deg')\n",
    "print('Timestamp:', t_cm)"
   ]
  },
  {
   "cell_type": "markdown",
   "metadata": {},
   "source": [
    "Before downloading the corresponding data files, we first check if the files were already downloaded. For this we create a list of file names and check if they already exist, before submitting the data export request."
   ]
  },
  {
   "cell_type": "code",
   "execution_count": null,
   "metadata": {
    "collapsed": true
   },
   "outputs": [],
   "source": [
    "t_cm_str = t_cm.strftime('%Y%m%d_%H%M%S_TAI')\n",
    "fname_mask = '{series}.{sharpnum}.{tstr}.{segment}.fits'\n",
    "fnames = {\n",
    "    s: fname_mask.format(\n",
    "        series=series, sharpnum=sharpnum, tstr=t_cm_str, segment=s)\n",
    "    for s in segments}\n",
    "\n",
    "download_segments = []\n",
    "for k, v in fnames.items():\n",
    "    if not os.path.exists(v):\n",
    "        download_segments.append(k)"
   ]
  },
  {
   "cell_type": "markdown",
   "metadata": {},
   "source": [
    "We now submit the export request and download all files that were not downloaded in any previous run:"
   ]
  },
  {
   "cell_type": "code",
   "execution_count": null,
   "metadata": {
    "collapsed": false
   },
   "outputs": [],
   "source": [
    "if download_segments:\n",
    "    exp_query = '%s{%s}' % (rec_cm, ','.join(download_segments))\n",
    "    r = c.export(exp_query)\n",
    "    dl = r.download('.')"
   ]
  },
  {
   "cell_type": "markdown",
   "metadata": {},
   "source": [
    "In case the files were downloaded with additional keyword data in their headers, we need to take care of any non-standard FITS keywords, to avoid errors when reading these files using `astropy.io.fits`. For this reason, we define a short function that takes care of these keywords and returns the data from the compressed data unit."
   ]
  },
  {
   "cell_type": "code",
   "execution_count": null,
   "metadata": {
    "collapsed": true
   },
   "outputs": [],
   "source": [
    "def read_fits_data(fname):\n",
    "    \"\"\"Reads FITS data and fixes/ignores any non-standard FITS keywords.\"\"\"\n",
    "    hdulist = fits.open(fname)\n",
    "    hdulist.verify('silentfix+warn')\n",
    "    return hdulist[1].data"
   ]
  },
  {
   "cell_type": "markdown",
   "metadata": {},
   "source": [
    "We can now finally read the data from the downloaded FITS files:"
   ]
  },
  {
   "cell_type": "code",
   "execution_count": null,
   "metadata": {
    "collapsed": true
   },
   "outputs": [],
   "source": [
    "mag = read_fits_data(fnames['magnetogram'])\n",
    "babs = read_fits_data(fnames['field'])\n",
    "cont = read_fits_data(fnames['continuum'])\n",
    "dopp = read_fits_data(fnames['Dopplergram'])"
   ]
  },
  {
   "cell_type": "markdown",
   "metadata": {},
   "source": [
    "## Preparing the data for plotting\n",
    "\n",
    "We start with subtracting SDO's LoS velocity from the Dopplergram:"
   ]
  },
  {
   "cell_type": "code",
   "execution_count": null,
   "metadata": {
    "collapsed": true
   },
   "outputs": [],
   "source": [
    "dopp -= k_cm.OBS_VR"
   ]
  },
  {
   "cell_type": "markdown",
   "metadata": {},
   "source": [
    "We now convert the coordinates of the patch from pixel coordinates to helioprojective-cartesian cordinates, by using the WCS keywords."
   ]
  },
  {
   "cell_type": "code",
   "execution_count": null,
   "metadata": {
    "collapsed": true
   },
   "outputs": [],
   "source": [
    "ny, nx = mag.shape\n",
    "xmin = (1 - k_cm.CRPIX1)*k_cm.CDELT1 + k_cm.CRVAL1\n",
    "xmax = (nx - k_cm.CRPIX1)*k_cm.CDELT1 + k_cm.CRVAL1\n",
    "ymin = (1 - k_cm.CRPIX2)*k_cm.CDELT2 + k_cm.CRVAL2\n",
    "ymax = (ny - k_cm.CRPIX2)*k_cm.CDELT2 + k_cm.CRVAL2"
   ]
  },
  {
   "cell_type": "markdown",
   "metadata": {},
   "source": [
    "One issue, not handled by this transformation, is image rotation. For exact results, this would need us to either remap the data on a different grid, or use a rotated coordinate system for plotting the data. Luckily, the rotation angle of HMI images, i.e. `CROTA2`, is usally very close to 180°. So we can well approximate the rotation by just flipping the image axes."
   ]
  },
  {
   "cell_type": "code",
   "execution_count": null,
   "metadata": {
    "collapsed": false
   },
   "outputs": [],
   "source": [
    "if abs(180 - k_cm.CROTA2) < 0.1:\n",
    "    mag = mag[::-1, ::-1]\n",
    "    babs = babs[::-1, ::-1]\n",
    "    cont = cont[::-1, ::-1]\n",
    "    dopp = dopp[::-1, ::-1]\n",
    "    xmin, xmax = -xmax, -xmin\n",
    "    ymin, ymax = -ymax, -ymin\n",
    "else:\n",
    "    raise RuntimeError('CROTA2 = %.2f value not supported.' % k_cm.CROTA2)"
   ]
  },
  {
   "cell_type": "markdown",
   "metadata": {},
   "source": [
    "We can now compute the extent of the image in arcsecs, which will be used when plotting the images."
   ]
  },
  {
   "cell_type": "code",
   "execution_count": null,
   "metadata": {
    "collapsed": true
   },
   "outputs": [],
   "source": [
    "extent = (xmin - abs(k_cm.CDELT1)/2, xmax + abs(k_cm.CDELT1)/2,\n",
    "          ymin - abs(k_cm.CDELT2)/2, ymax + abs(k_cm.CDELT2)/2)"
   ]
  },
  {
   "cell_type": "markdown",
   "metadata": {},
   "source": [
    "## Plotting the image data\n",
    "\n",
    "We change some matplotlib options to make plot commands less verbose:"
   ]
  },
  {
   "cell_type": "code",
   "execution_count": null,
   "metadata": {
    "collapsed": true
   },
   "outputs": [],
   "source": [
    "plt.rc('mathtext', default='regular')\n",
    "plt.rc('image', origin='lower', interpolation='nearest', cmap='gray')"
   ]
  },
  {
   "cell_type": "markdown",
   "metadata": {},
   "source": [
    "And finally create the plots and save the figure as PDF and PNG:"
   ]
  },
  {
   "cell_type": "code",
   "execution_count": null,
   "metadata": {
    "collapsed": false
   },
   "outputs": [],
   "source": [
    "fig = plt.figure(figsize=(12, 6.75))\n",
    "gs = plt.GridSpec(2, 5, width_ratios=[1, 0.1, 0.1, 1, 0.1])\n",
    "ax = [fig.add_subplot(gsi, anchor='E')\n",
    "      for gsi in [gs[0, 0], gs[0, 3], gs[1, 0], gs[1, 3]]]\n",
    "cax = [fig.add_subplot(gsi, anchor='W', aspect=15)\n",
    "      for gsi in [gs[0, 1], gs[0, 4], gs[1, 1], gs[1, 4]]]\n",
    "\n",
    "ax_mag, cax_mag = ax[0], cax[0]\n",
    "im_mag = ax_mag.imshow(mag/1e3, extent=extent, vmin=-1, vmax=1)\n",
    "cb_mag = plt.colorbar(im_mag, cax_mag, label='$B_{\\mathrm{los}}$ [kG]')\n",
    "\n",
    "ax_cont, cax_cont = ax[1], cax[1]\n",
    "im_cont = ax_cont.imshow(cont/1e3, extent=extent, vmax=61)\n",
    "cb_cont = plt.colorbar(im_cont, cax_cont, label='$I_{\\mathrm{c}}$ [kDN/s]')\n",
    "\n",
    "ax_babs, cax_babs = ax[2], cax[2]\n",
    "im_babs = ax_babs.imshow(babs/1e3, extent=extent, vmin=0.05, vmax=2.6)\n",
    "cb_babs = plt.colorbar(im_babs, cax_babs, label='$|B|$ [kG]')\n",
    "\n",
    "ax_dopp, cax_dopp = ax[3], cax[3]\n",
    "im_dopp = ax_dopp.imshow(dopp/1e3, extent=extent, vmin=-1.3, vmax=1.3)\n",
    "cb_dopp = plt.colorbar(im_dopp, cax_dopp, label='$v_{\\mathrm{los}}$ [km/s]')\n",
    "\n",
    "ax_mag.set_xticklabels([])\n",
    "ax_cont.set_xticklabels([])\n",
    "ax_cont.set_yticklabels([])\n",
    "ax_dopp.set_yticklabels([])\n",
    "ax_babs.set_xlabel('Solar X [arcsec]')\n",
    "ax_dopp.set_xlabel('Solar X [arcsec]')\n",
    "ax_mag.set_ylabel('Solar Y [arcsec]')\n",
    "ax_babs.set_ylabel('Solar Y [arcsec]')\n",
    "\n",
    "for axi in ax:\n",
    "    axi.set_xlim(-130, 141)\n",
    "    axi.set_ylim(-262, -86)\n",
    "\n",
    "fig.subplots_adjust(\n",
    "    left=0.07, bottom=0.10, right=0.94, top=0.95, wspace=0.05, hspace=0.10)\n",
    "plt.draw()\n",
    "\n",
    "fig.savefig('sharp_imgdata.pdf', dpi=200)\n",
    "fig.savefig('sharp_imgdata.png', dpi=200)\n",
    "\n",
    "plt.show()"
   ]
  },
  {
   "cell_type": "code",
   "execution_count": null,
   "metadata": {
    "collapsed": true
   },
   "outputs": [],
   "source": []
  }
 ],
 "metadata": {
  "kernelspec": {
   "display_name": "Python 3",
   "language": "python",
   "name": "python3"
  },
  "language_info": {
   "codemirror_mode": {
    "name": "ipython",
    "version": 3
   },
   "file_extension": ".py",
   "mimetype": "text/x-python",
   "name": "python",
   "nbconvert_exporter": "python",
   "pygments_lexer": "ipython3",
   "version": "3.6.0"
  }
 },
 "nbformat": 4,
 "nbformat_minor": 0
}
